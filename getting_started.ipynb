{
 "cells": [
  {
   "cell_type": "markdown",
   "metadata": {
    "pycharm": {
     "name": "#%% md\n"
    }
   },
   "source": [
    "# Using the Python `chi` library"
   ]
  },
  {
   "cell_type": "markdown",
   "metadata": {
    "pycharm": {
     "name": "#%% md\n"
    }
   },
   "source": [
    "## Getting started\n",
    "\n",
    "Before you do anything, you should first set up a few project variables. This is so your script knows which project to operate on. If you are only a member of one project, you can skip this step, as the project will be selected for you by default. You can also set the site you want to use via the `region_name` setting - this defaults to `CHI@UC`.\n",
    "\n",
    "You can get the your list of active projects from https://chameleoncloud.org/user/dashboard/\n",
    "\n",
    "The \"project_name\" is of the form `CHI-XXXXXX`"
   ]
  },
  {
   "cell_type": "code",
   "execution_count": 1,
   "metadata": {
    "collapsed": false,
    "jupyter": {
     "outputs_hidden": false
    },
    "pycharm": {
     "name": "#%%\n"
    }
   },
   "outputs": [
    {
     "name": "stdout",
     "output_type": "stream",
     "text": [
      "Now using CHI@Purdue:\n",
      "URL: https://chi.rcac.purdue.edu\n",
      "Location: None\n",
      "Support contact: help@chameleoncloud.org\n"
     ]
    }
   ],
   "source": [
    "import chi\n",
    "# chi.set('project_name', '<CHI-XXXXXX>')    # Replace with your project ID from https://chameleoncloud.org/user/dashboard/\n",
    "chi.use_site('CHI@Purdue')    #Set which site to use"
   ]
  },
  {
   "cell_type": "markdown",
   "metadata": {
    "pycharm": {
     "name": "#%% md\n"
    }
   },
   "source": [
    "## Launching a baremetal server\n",
    "\n",
    "Starting a new baremetal server is easy to do."
   ]
  },
  {
   "cell_type": "code",
   "execution_count": null,
   "metadata": {},
   "outputs": [],
   "source": [
    "import chi.lease\n",
    "# Reserve a head node\n",
    "head_node_reservation_list = []\n",
    "chi.lease.add_node_reservation(head_node_reservation_list, node_type='indyscc_head',count=1)\n",
    "head_lease = chi.lease.create_lease(\"my-indyscc-head-node-lease\", reservations=head_node_reservation_list)\n",
    "\n",
    "print(\"see https://chi.rcac.purdue.edu/project/leases/ for current lease status\")\n",
    "# wait for lease to become active\n",
    "head_lease_start = chi.lease.wait_for_active(head_lease['id'])  # Ensure lease has started"
   ]
  },
  {
   "cell_type": "code",
   "execution_count": null,
   "metadata": {},
   "outputs": [],
   "source": [
    "# Reserve 10 compute nodes\n",
    "compute_node_reservation_list = []\n",
    "chi.lease.add_node_reservation(compute_node_reservation_list, node_type='indyscc_compute',count=10)\n",
    "compute_lease = chi.lease.create_lease(\"my-indyscc-compute-node-lease\", reservations=compute_node_reservation_list)\n",
    "\n",
    "print(\"see https://chi.rcac.purdue.edu/project/leases/ for current lease status\")\n",
    "# wait for lease to become active\n",
    "compute_lease_start = chi.lease.wait_for_active(compute_lease['id'])  # Ensure lease has started"
   ]
  },
  {
   "cell_type": "code",
   "execution_count": null,
   "metadata": {
    "collapsed": false,
    "jupyter": {
     "outputs_hidden": false
    },
    "pycharm": {
     "name": "#%%\n"
    }
   },
   "outputs": [],
   "source": [
    "import chi.server\n",
    "\n",
    "# Launch an instance on your head node\n",
    "head_node = chi.server.create_server(\n",
    "    \"indyscc-head-node\",                                 \n",
    "    reservation_id=chi.lease.get_node_reservation(head_lease[\"id\"]),\n",
    "    image_name='CC-Ubuntu20.04',\n",
    "    network_name=\"sharednet1\",\n",
    "    count=1)"
   ]
  },
  {
   "cell_type": "code",
   "execution_count": null,
   "metadata": {
    "collapsed": false,
    "jupyter": {
     "outputs_hidden": false
    },
    "pycharm": {
     "name": "#%%\n"
    }
   },
   "outputs": [],
   "source": [
    "# Launch your compute node instances\n",
    "compute_nodes = chi.server.create_server(\n",
    "    \"indyscc-compute-node\",                                 \n",
    "    reservation_id=chi.lease.get_node_reservation(compute_lease[\"id\"]),\n",
    "    image_name='CC-Ubuntu20.04',\n",
    "    network_name=\"sharednet1\",\n",
    "    count=10)"
   ]
  },
  {
   "cell_type": "code",
   "execution_count": null,
   "metadata": {
    "collapsed": false,
    "jupyter": {
     "outputs_hidden": false
    },
    "pycharm": {
     "name": "#%%\n"
    }
   },
   "outputs": [],
   "source": [
    "# wait for nodes to become active. This can take 10-20 minutes, as they need to reboot twice.\n",
    "# you can run this again if it times out.\n",
    "print(f\"Waiting for instances to become active. Check out the current status at https://chi.rcac.purdue.edu/project/instances/\")\n",
    "\n",
    "head_node_start = chi.server.wait_for_active(head_node.id)"
   ]
  },
  {
   "cell_type": "markdown",
   "metadata": {
    "pycharm": {
     "name": "#%% md\n"
    }
   },
   "source": [
    "## Connecting to your server\n",
    "\n",
    "By default, the server will only have a private IP assigned. In order to SSH to the server, you should assign a public floating IP. There are are limited amount of public IPs available across the entire Chameleon testbed, so try to keep the amount of nodes with a public IP to a minimum! A common practice is to set up one node as a \"login node\" with a public IP, and logging in to that node to manage all of your project's nodes.\n",
    "\n",
    "Once a public IP is assigned, you can set up a remote connection to the node.\n",
    "\n",
    "You can see your current floating IPs at https://chi.rcac.purdue.edu/project/floating_ips/"
   ]
  },
  {
   "cell_type": "code",
   "execution_count": null,
   "metadata": {
    "collapsed": false,
    "jupyter": {
     "outputs_hidden": false
    },
    "pycharm": {
     "name": "#%%\n"
    }
   },
   "outputs": [],
   "source": [
    "from chi.ssh import Remote\n",
    "# Assign a public floating IP\n",
    "ip = chi.server.associate_floating_ip(head_node.id)"
   ]
  },
  {
   "cell_type": "code",
   "execution_count": null,
   "metadata": {
    "collapsed": false,
    "jupyter": {
     "outputs_hidden": false
    },
    "pycharm": {
     "name": "#%%\n"
    }
   },
   "outputs": [],
   "source": [
    "# wait for ssh to become active\n",
    "chi.server.wait_for_tcp(host=ip,port=22)\n",
    "\n",
    "# Create a remote connection\n",
    "remote = Remote(ip)"
   ]
  },
  {
   "cell_type": "markdown",
   "metadata": {
    "pycharm": {
     "name": "#%% md\n"
    }
   },
   "source": [
    "You can use `remote.run` to run commands on the server directly from your Notebook.\n",
    "A similar command is `remote.sudo`, which runs a command with escalated privileges."
   ]
  },
  {
   "cell_type": "markdown",
   "metadata": {
    "pycharm": {
     "name": "#%% md\n"
    }
   },
   "source": [
    "### Example command: get CPU usage"
   ]
  },
  {
   "cell_type": "code",
   "execution_count": null,
   "metadata": {
    "collapsed": false,
    "jupyter": {
     "outputs_hidden": false
    },
    "pycharm": {
     "name": "#%%\n"
    }
   },
   "outputs": [],
   "source": [
    "# Run some commands on your remote server\n",
    "cpu_usage = remote.run(\"grep 'cpu ' /proc/stat | awk '{usage=($2+$4)*100/($2+$4+$5)} END {print usage}'\", hide=True)\n",
    "\n",
    "print('Current CPU usage is {}%'.format(float(cpu_usage.stdout)))"
   ]
  }
 ],
 "metadata": {
  "kernelspec": {
   "display_name": "Python 3 (ipykernel)",
   "language": "python",
   "name": "python3"
  },
  "language_info": {
   "codemirror_mode": {
    "name": "ipython",
    "version": 3
   },
   "file_extension": ".py",
   "mimetype": "text/x-python",
   "name": "python",
   "nbconvert_exporter": "python",
   "pygments_lexer": "ipython3",
   "version": "3.9.7"
  }
 },
 "nbformat": 4,
 "nbformat_minor": 4
}
